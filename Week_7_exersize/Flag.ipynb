{
 "cells": [
  {
   "cell_type": "code",
   "execution_count": 128,
   "id": "cae20e04-df1a-4044-843c-4a0fb0df6fde",
   "metadata": {},
   "outputs": [],
   "source": [
    "import cv2 \n",
    "import numpy as np\n",
    "import matplotlib.pyplot as plt"
   ]
  },
  {
   "cell_type": "code",
   "execution_count": 130,
   "id": "b9714079-1e7c-4654-af53-3552542badf7",
   "metadata": {},
   "outputs": [],
   "source": [
    "#300x420 boyutunda 3 kanallı içi sıfır ile dolu bir matris tanımlıyoruz:"
   ]
  },
  {
   "cell_type": "code",
   "execution_count": 132,
   "id": "fce24ddf-e1b0-4ffe-a7a5-dfa9cfbba61a",
   "metadata": {},
   "outputs": [],
   "source": [
    "img_flag_germany = np.zeros((300,420,3),dtype = np.uint8)\n",
    "\n",
    "#ilk 100 satırın siyah görünmesini sağlayan kod:\n",
    "#[Red, Green, Blue]\n",
    "\n",
    "img_flag_germany[0:100,:] = [0,0,0]\n",
    "\n",
    "#100. satırdan 200.satıra kadar kırmızı görünmesini sağlayan kod:\n",
    "img_flag_germany[100:200,:] = [255,0,0]\n",
    "\n",
    "#200. satırdan 300.satıra kadar (son satıra kadar)\n",
    "#sarı görünmesini sağlayan kod\n",
    "img_flag_germany[200:300,:] = [255,255,0]"
   ]
  },
  {
   "cell_type": "code",
   "execution_count": 134,
   "id": "b836bd5e-718f-4f0d-9492-370cb2d1b086",
   "metadata": {},
   "outputs": [
    {
     "data": {
      "text/plain": [
       "Text(0.5, 1.0, 'GERMANY')"
      ]
     },
     "execution_count": 134,
     "metadata": {},
     "output_type": "execute_result"
    },
    {
     "data": {
      "image/png": "[encoded data removed]",
      "text/plain": [
       "<Figure size 640x480 with 1 Axes>"
      ]
     },
     "metadata": {},
     "output_type": "display_data"
    }
   ],
   "source": [
    "plt.imshow(img_flag_germany),\n",
    "plt.axis(\"off\")\n",
    "plt.title(\"GERMANY\")"
   ]
  },
  {
   "cell_type": "code",
   "execution_count": 148,
   "id": "6960112f-ded3-4406-8546-fbefa9731284",
   "metadata": {},
   "outputs": [],
   "source": [
    "img_flag_russia = np.zeros((300,420,3),dtype = np.uint8)\n",
    "\n",
    "#ilk 100 satırın siyah görünmesini sağlayan kod:\n",
    "#[Red, Green, Blue]\n",
    "\n",
    "img_flag_russia[0:100,:] = [240,240,240]\n",
    "\n",
    "#100. satırdan 200.satıra kadar kırmızı görünmesini sağlayan kod:\n",
    "img_flag_russia[100:200,:] = [0,0,255]\n",
    "\n",
    "#200. satırdan 300.satıra kadar (son satıra kadar)\n",
    "#sarı görünmesini sağlayan kod\n",
    "img_flag_russia[200:300,:] = [255,0,0]"
   ]
  },
  {
   "cell_type": "code",
   "execution_count": 150,
   "id": "07c0cded-e65b-4448-80b8-fec25819878e",
   "metadata": {},
   "outputs": [
    {
     "data": {
      "text/plain": [
       "Text(0.5, 1.0, 'RUSSİA')"
      ]
     },
     "execution_count": 150,
     "metadata": {},
     "output_type": "execute_result"
    },
    {
     "data": {
      "image/png": "[encoded data removed]",
      "text/plain": [
       "<Figure size 640x480 with 1 Axes>"
      ]
     },
     "metadata": {},
     "output_type": "display_data"
    }
   ],
   "source": [
    "plt.imshow(img_flag_russia),\n",
    "plt.axis(\"off\")\n",
    "plt.title(\"RUSSİA\")"
   ]
  }
 ],
 "metadata": {
  "kernelspec": {
   "display_name": "env_bst",
   "language": "python",
   "name": "env_bst"
  },
  "language_info": {
   "codemirror_mode": {
    "name": "ipython",
    "version": 3
   },
   "file_extension": ".py",
   "mimetype": "text/x-python",
   "name": "python",
   "nbconvert_exporter": "python",
   "pygments_lexer": "ipython3",
   "version": "3.10.10"
  }
 },
 "nbformat": 4,
 "nbformat_minor": 5
}
