{
 "cells": [
  {
   "cell_type": "code",
   "execution_count": 5,
   "id": "f7b78e07-de2c-4310-a981-d141bbde2b2c",
   "metadata": {},
   "outputs": [],
   "source": [
    "import cv2 \n",
    "import numpy as np\n",
    "import matplotlib.pyplot as plt"
   ]
  },
  {
   "cell_type": "code",
   "execution_count": 6,
   "id": "1258028e-2f69-4211-bd80-0336c11b6931",
   "metadata": {},
   "outputs": [],
   "source": [
    "width, height, channel = 300, 450, 3\n",
    "\n",
    "img_flag_france = np.zeros((width,height,channel),dtype = np.uint8)\n",
    "\n",
    "#ilk 100 satırın siyah görünmesini sağlayan kod:\n",
    "#[Red, Green, Blue]\n",
    "\n",
    "img_flag_france[0:,0:150] = [0,0,255]\n",
    "\n",
    "#100. satırdan 200.satıra kadar kırmızı görünmesini sağlayan kod:\n",
    "img_flag_france[:,150:300] = [255,255,255]\n",
    "\n",
    "#200. satırdan 300.satıra kadar (son satıra kadar)\n",
    "#sarı görünmesini sağlayan kod\n",
    "img_flag_france[:,300:450] = [255,0,0]"
   ]
  },
  {
   "cell_type": "code",
   "execution_count": 9,
   "id": "82c5da25-44b6-47cc-9332-2033dd9dacd3",
   "metadata": {},
   "outputs": [
    {
     "data": {
      "text/plain": [
       "Text(0.5, 1.0, 'France')"
      ]
     },
     "execution_count": 9,
     "metadata": {},
     "output_type": "execute_result"
    },
    {
     "data": {
      "image/png": "[encoded data removed]",
      "text/plain": [
       "<Figure size 640x480 with 1 Axes>"
      ]
     },
     "metadata": {},
     "output_type": "display_data"
    }
   ],
   "source": [
    "plt.imshow(img_flag_france),\n",
    "plt.axis(\"off\")\n",
    "plt.title(\"France\")"
   ]
  },
  {
   "cell_type": "code",
   "execution_count": 11,
   "id": "7bb8fc80-5628-443c-961a-03efcd22f14e",
   "metadata": {},
   "outputs": [],
   "source": [
    "#bayrak içerisindeki mavi renklerin koordinatlarını alan bir maske oluşturunuz.\n",
    "#daha sonra bu mavi renkleri turuncu renk olarak değiştiriniz turuncu renk kodlarını paint'den bakınız"
   ]
  },
  {
   "cell_type": "code",
   "execution_count": 13,
   "id": "72e97c78-4b52-4809-bff1-78faf66cc1a6",
   "metadata": {},
   "outputs": [
    {
     "data": {
      "text/plain": [
       "(np.float64(-0.5), np.float64(449.5), np.float64(299.5), np.float64(-0.5))"
      ]
     },
     "execution_count": 13,
     "metadata": {},
     "output_type": "execute_result"
    },
    {
     "data": {
      "image/png": "[encoded data removed]",
      "text/plain": [
       "<Figure size 640x480 with 1 Axes>"
      ]
     },
     "metadata": {},
     "output_type": "display_data"
    }
   ],
   "source": [
    "#mavi renklerin koordinatını tutan maske değişkenini oluşturalım\n",
    "#Python'da bir matrisin ya da indekseleme yapabilen bir veri yapısının[:,:]\n",
    "#şeklinde gösterilmesini tamamen koordinat sistemi ile ilgilidir. \n",
    "\n",
    "mask_blue = (img_flag_france[:,:,0]==0)&(img_flag_france[:,:,1]==0)&(img_flag_france[:,:,2]==255)\n",
    "#görüntüde sadece mavi renklerin olduğu koordinatları getiren ve bizim verdiğimiz renk ile dolduran kod(turuncu renk ile)\n",
    "\n",
    "img_flag_france[mask_blue] = [255,128,0] #turuncu rengin RGB Kodları\n",
    "\n",
    "plt.imshow(img_flag_france)\n",
    "plt.axis('off')"
   ]
  }
 ],
 "metadata": {
  "kernelspec": {
   "display_name": "env_bst",
   "language": "python",
   "name": "env_bst"
  },
  "language_info": {
   "codemirror_mode": {
    "name": "ipython",
    "version": 3
   },
   "file_extension": ".py",
   "mimetype": "text/x-python",
   "name": "python",
   "nbconvert_exporter": "python",
   "pygments_lexer": "ipython3",
   "version": "3.10.10"
  }
 },
 "nbformat": 4,
 "nbformat_minor": 5
}
